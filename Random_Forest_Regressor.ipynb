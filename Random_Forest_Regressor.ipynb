{
 "cells": [
  {
   "cell_type": "code",
   "execution_count": 84,
   "id": "3a17deb4",
   "metadata": {},
   "outputs": [],
   "source": [
    "import pandas as pd\n",
    "import numpy as np\n",
    "from sklearn.model_selection import train_test_split\n",
    "from sklearn.ensemble import RandomForestClassifier\n",
    "from sklearn import metrics\n",
    "from sklearn.ensemble import RandomForestRegressor\n",
    "from sklearn.metrics import mean_squared_error\n",
    "import seaborn as sns\n",
    "import matplotlib.pyplot as plt"
   ]
  },
  {
   "cell_type": "code",
   "execution_count": 85,
   "id": "dc05f26c",
   "metadata": {},
   "outputs": [],
   "source": [
    "univ = pd.read_csv(\"C:/Users/zarar/Downloads/archive/qs-world-university-rankings-2017-to-2022-V2.csv\")"
   ]
  },
  {
   "cell_type": "code",
   "execution_count": 86,
   "id": "2092db8f",
   "metadata": {},
   "outputs": [
    {
     "data": {
      "text/html": [
       "<div>\n",
       "<style scoped>\n",
       "    .dataframe tbody tr th:only-of-type {\n",
       "        vertical-align: middle;\n",
       "    }\n",
       "\n",
       "    .dataframe tbody tr th {\n",
       "        vertical-align: top;\n",
       "    }\n",
       "\n",
       "    .dataframe thead th {\n",
       "        text-align: right;\n",
       "    }\n",
       "</style>\n",
       "<table border=\"1\" class=\"dataframe\">\n",
       "  <thead>\n",
       "    <tr style=\"text-align: right;\">\n",
       "      <th></th>\n",
       "      <th>university</th>\n",
       "      <th>year</th>\n",
       "      <th>rank_display</th>\n",
       "      <th>score</th>\n",
       "      <th>link</th>\n",
       "      <th>country</th>\n",
       "      <th>city</th>\n",
       "      <th>region</th>\n",
       "      <th>logo</th>\n",
       "      <th>type</th>\n",
       "      <th>research_output</th>\n",
       "      <th>student_faculty_ratio</th>\n",
       "      <th>international_students</th>\n",
       "      <th>size</th>\n",
       "      <th>faculty_count</th>\n",
       "    </tr>\n",
       "  </thead>\n",
       "  <tbody>\n",
       "    <tr>\n",
       "      <th>0</th>\n",
       "      <td>Massachusetts Institute of Technology (MIT)</td>\n",
       "      <td>2017</td>\n",
       "      <td>1</td>\n",
       "      <td>100.0</td>\n",
       "      <td>https://www.topuniversities.com/universities/m...</td>\n",
       "      <td>United States</td>\n",
       "      <td>Cambridge</td>\n",
       "      <td>North America</td>\n",
       "      <td>https://www.topuniversities.com/sites/default/...</td>\n",
       "      <td>Private</td>\n",
       "      <td>Very High</td>\n",
       "      <td>4.0</td>\n",
       "      <td>3,730</td>\n",
       "      <td>M</td>\n",
       "      <td>3,065</td>\n",
       "    </tr>\n",
       "    <tr>\n",
       "      <th>1</th>\n",
       "      <td>Stanford University</td>\n",
       "      <td>2017</td>\n",
       "      <td>2</td>\n",
       "      <td>98.7</td>\n",
       "      <td>https://www.topuniversities.com/universities/s...</td>\n",
       "      <td>United States</td>\n",
       "      <td>Stanford</td>\n",
       "      <td>North America</td>\n",
       "      <td>https://www.topuniversities.com/sites/default/...</td>\n",
       "      <td>Private</td>\n",
       "      <td>Very High</td>\n",
       "      <td>3.0</td>\n",
       "      <td>3,879</td>\n",
       "      <td>L</td>\n",
       "      <td>4,725</td>\n",
       "    </tr>\n",
       "    <tr>\n",
       "      <th>2</th>\n",
       "      <td>Harvard University</td>\n",
       "      <td>2017</td>\n",
       "      <td>3</td>\n",
       "      <td>98.3</td>\n",
       "      <td>https://www.topuniversities.com/universities/h...</td>\n",
       "      <td>United States</td>\n",
       "      <td>Cambridge</td>\n",
       "      <td>North America</td>\n",
       "      <td>https://www.topuniversities.com/sites/default/...</td>\n",
       "      <td>Private</td>\n",
       "      <td>Very High</td>\n",
       "      <td>5.0</td>\n",
       "      <td>5,877</td>\n",
       "      <td>L</td>\n",
       "      <td>4,646</td>\n",
       "    </tr>\n",
       "    <tr>\n",
       "      <th>3</th>\n",
       "      <td>University of Cambridge</td>\n",
       "      <td>2017</td>\n",
       "      <td>4</td>\n",
       "      <td>97.2</td>\n",
       "      <td>https://www.topuniversities.com/universities/u...</td>\n",
       "      <td>United Kingdom</td>\n",
       "      <td>Cambridge</td>\n",
       "      <td>Europe</td>\n",
       "      <td>https://www.topuniversities.com/sites/default/...</td>\n",
       "      <td>Public</td>\n",
       "      <td>Very high</td>\n",
       "      <td>4.0</td>\n",
       "      <td>7,925</td>\n",
       "      <td>L</td>\n",
       "      <td>5,800</td>\n",
       "    </tr>\n",
       "    <tr>\n",
       "      <th>4</th>\n",
       "      <td>California Institute of Technology (Caltech)</td>\n",
       "      <td>2017</td>\n",
       "      <td>5</td>\n",
       "      <td>96.9</td>\n",
       "      <td>https://www.topuniversities.com/universities/c...</td>\n",
       "      <td>United States</td>\n",
       "      <td>Pasadena</td>\n",
       "      <td>North America</td>\n",
       "      <td>https://www.topuniversities.com/sites/default/...</td>\n",
       "      <td>Private</td>\n",
       "      <td>Very High</td>\n",
       "      <td>2.0</td>\n",
       "      <td>692</td>\n",
       "      <td>S</td>\n",
       "      <td>968</td>\n",
       "    </tr>\n",
       "  </tbody>\n",
       "</table>\n",
       "</div>"
      ],
      "text/plain": [
       "                                     university  year rank_display  score  \\\n",
       "0  Massachusetts Institute of Technology (MIT)   2017            1  100.0   \n",
       "1                           Stanford University  2017            2   98.7   \n",
       "2                            Harvard University  2017            3   98.3   \n",
       "3                       University of Cambridge  2017            4   97.2   \n",
       "4  California Institute of Technology (Caltech)  2017            5   96.9   \n",
       "\n",
       "                                                link         country  \\\n",
       "0  https://www.topuniversities.com/universities/m...   United States   \n",
       "1  https://www.topuniversities.com/universities/s...   United States   \n",
       "2  https://www.topuniversities.com/universities/h...   United States   \n",
       "3  https://www.topuniversities.com/universities/u...  United Kingdom   \n",
       "4  https://www.topuniversities.com/universities/c...   United States   \n",
       "\n",
       "        city         region  \\\n",
       "0  Cambridge  North America   \n",
       "1   Stanford  North America   \n",
       "2  Cambridge  North America   \n",
       "3  Cambridge         Europe   \n",
       "4   Pasadena  North America   \n",
       "\n",
       "                                                logo     type research_output  \\\n",
       "0  https://www.topuniversities.com/sites/default/...  Private       Very High   \n",
       "1  https://www.topuniversities.com/sites/default/...  Private       Very High   \n",
       "2  https://www.topuniversities.com/sites/default/...  Private       Very High   \n",
       "3  https://www.topuniversities.com/sites/default/...   Public       Very high   \n",
       "4  https://www.topuniversities.com/sites/default/...  Private       Very High   \n",
       "\n",
       "   student_faculty_ratio international_students size faculty_count  \n",
       "0                    4.0                  3,730    M         3,065  \n",
       "1                    3.0                  3,879    L         4,725  \n",
       "2                    5.0                  5,877    L         4,646  \n",
       "3                    4.0                  7,925    L         5,800  \n",
       "4                    2.0                    692    S           968  "
      ]
     },
     "execution_count": 86,
     "metadata": {},
     "output_type": "execute_result"
    }
   ],
   "source": [
    "univ.head()"
   ]
  },
  {
   "cell_type": "code",
   "execution_count": 87,
   "id": "79759894",
   "metadata": {},
   "outputs": [
    {
     "data": {
      "text/html": [
       "<div>\n",
       "<style scoped>\n",
       "    .dataframe tbody tr th:only-of-type {\n",
       "        vertical-align: middle;\n",
       "    }\n",
       "\n",
       "    .dataframe tbody tr th {\n",
       "        vertical-align: top;\n",
       "    }\n",
       "\n",
       "    .dataframe thead th {\n",
       "        text-align: right;\n",
       "    }\n",
       "</style>\n",
       "<table border=\"1\" class=\"dataframe\">\n",
       "  <thead>\n",
       "    <tr style=\"text-align: right;\">\n",
       "      <th></th>\n",
       "      <th>year</th>\n",
       "      <th>score</th>\n",
       "      <th>student_faculty_ratio</th>\n",
       "    </tr>\n",
       "  </thead>\n",
       "  <tbody>\n",
       "    <tr>\n",
       "      <th>count</th>\n",
       "      <td>6482.000000</td>\n",
       "      <td>2820.000000</td>\n",
       "      <td>6407.000000</td>\n",
       "    </tr>\n",
       "    <tr>\n",
       "      <th>mean</th>\n",
       "      <td>2019.693613</td>\n",
       "      <td>46.595532</td>\n",
       "      <td>13.264554</td>\n",
       "    </tr>\n",
       "    <tr>\n",
       "      <th>std</th>\n",
       "      <td>1.716683</td>\n",
       "      <td>18.813110</td>\n",
       "      <td>6.604294</td>\n",
       "    </tr>\n",
       "    <tr>\n",
       "      <th>min</th>\n",
       "      <td>2017.000000</td>\n",
       "      <td>23.500000</td>\n",
       "      <td>1.000000</td>\n",
       "    </tr>\n",
       "    <tr>\n",
       "      <th>25%</th>\n",
       "      <td>2018.000000</td>\n",
       "      <td>31.800000</td>\n",
       "      <td>9.000000</td>\n",
       "    </tr>\n",
       "    <tr>\n",
       "      <th>50%</th>\n",
       "      <td>2020.000000</td>\n",
       "      <td>40.600000</td>\n",
       "      <td>12.000000</td>\n",
       "    </tr>\n",
       "    <tr>\n",
       "      <th>75%</th>\n",
       "      <td>2021.000000</td>\n",
       "      <td>58.025000</td>\n",
       "      <td>17.000000</td>\n",
       "    </tr>\n",
       "    <tr>\n",
       "      <th>max</th>\n",
       "      <td>2022.000000</td>\n",
       "      <td>100.000000</td>\n",
       "      <td>67.000000</td>\n",
       "    </tr>\n",
       "  </tbody>\n",
       "</table>\n",
       "</div>"
      ],
      "text/plain": [
       "              year        score  student_faculty_ratio\n",
       "count  6482.000000  2820.000000            6407.000000\n",
       "mean   2019.693613    46.595532              13.264554\n",
       "std       1.716683    18.813110               6.604294\n",
       "min    2017.000000    23.500000               1.000000\n",
       "25%    2018.000000    31.800000               9.000000\n",
       "50%    2020.000000    40.600000              12.000000\n",
       "75%    2021.000000    58.025000              17.000000\n",
       "max    2022.000000   100.000000              67.000000"
      ]
     },
     "execution_count": 87,
     "metadata": {},
     "output_type": "execute_result"
    }
   ],
   "source": [
    "univ.describe()"
   ]
  },
  {
   "cell_type": "code",
   "execution_count": 88,
   "id": "60e682a2",
   "metadata": {},
   "outputs": [
    {
     "name": "stdout",
     "output_type": "stream",
     "text": [
      "<class 'pandas.core.frame.DataFrame'>\n",
      "RangeIndex: 6482 entries, 0 to 6481\n",
      "Data columns (total 15 columns):\n",
      " #   Column                  Non-Null Count  Dtype  \n",
      "---  ------                  --------------  -----  \n",
      " 0   university              6482 non-null   object \n",
      " 1   year                    6482 non-null   int64  \n",
      " 2   rank_display            6414 non-null   object \n",
      " 3   score                   2820 non-null   float64\n",
      " 4   link                    6482 non-null   object \n",
      " 5   country                 6482 non-null   object \n",
      " 6   city                    6304 non-null   object \n",
      " 7   region                  6482 non-null   object \n",
      " 8   logo                    6482 non-null   object \n",
      " 9   type                    6470 non-null   object \n",
      " 10  research_output         6480 non-null   object \n",
      " 11  student_faculty_ratio   6407 non-null   float64\n",
      " 12  international_students  6318 non-null   object \n",
      " 13  size                    6480 non-null   object \n",
      " 14  faculty_count           6404 non-null   object \n",
      "dtypes: float64(2), int64(1), object(12)\n",
      "memory usage: 759.7+ KB\n"
     ]
    }
   ],
   "source": [
    "univ.info()"
   ]
  },
  {
   "cell_type": "code",
   "execution_count": 89,
   "id": "bc414e76-155b-45ec-8f88-42c277a02858",
   "metadata": {},
   "outputs": [
    {
     "data": {
      "text/html": [
       "<div>\n",
       "<style scoped>\n",
       "    .dataframe tbody tr th:only-of-type {\n",
       "        vertical-align: middle;\n",
       "    }\n",
       "\n",
       "    .dataframe tbody tr th {\n",
       "        vertical-align: top;\n",
       "    }\n",
       "\n",
       "    .dataframe thead th {\n",
       "        text-align: right;\n",
       "    }\n",
       "</style>\n",
       "<table border=\"1\" class=\"dataframe\">\n",
       "  <thead>\n",
       "    <tr style=\"text-align: right;\">\n",
       "      <th></th>\n",
       "      <th>university</th>\n",
       "      <th>rank_display</th>\n",
       "      <th>score</th>\n",
       "    </tr>\n",
       "  </thead>\n",
       "  <tbody>\n",
       "    <tr>\n",
       "      <th>375</th>\n",
       "      <td>Université Paris Descartes</td>\n",
       "      <td>377</td>\n",
       "      <td>NaN</td>\n",
       "    </tr>\n",
       "    <tr>\n",
       "      <th>400</th>\n",
       "      <td>Bandung Institute of Technology (ITB)</td>\n",
       "      <td>401-410</td>\n",
       "      <td>NaN</td>\n",
       "    </tr>\n",
       "    <tr>\n",
       "      <th>401</th>\n",
       "      <td>Brandeis University</td>\n",
       "      <td>401-410</td>\n",
       "      <td>NaN</td>\n",
       "    </tr>\n",
       "    <tr>\n",
       "      <th>402</th>\n",
       "      <td>Illinois Institute of Technology</td>\n",
       "      <td>401-410</td>\n",
       "      <td>NaN</td>\n",
       "    </tr>\n",
       "    <tr>\n",
       "      <th>403</th>\n",
       "      <td>Johannes Gutenberg Universität Mainz</td>\n",
       "      <td>401-410</td>\n",
       "      <td>NaN</td>\n",
       "    </tr>\n",
       "    <tr>\n",
       "      <th>405</th>\n",
       "      <td>National Research Nuclear University MEPhI (Mo...</td>\n",
       "      <td>401-410</td>\n",
       "      <td>NaN</td>\n",
       "    </tr>\n",
       "    <tr>\n",
       "      <th>406</th>\n",
       "      <td>Taipei Medical University (TMU)</td>\n",
       "      <td>401-410</td>\n",
       "      <td>NaN</td>\n",
       "    </tr>\n",
       "    <tr>\n",
       "      <th>407</th>\n",
       "      <td>Universidad Externado de Colombia</td>\n",
       "      <td>401-410</td>\n",
       "      <td>NaN</td>\n",
       "    </tr>\n",
       "    <tr>\n",
       "      <th>408</th>\n",
       "      <td>Wake Forest University</td>\n",
       "      <td>401-410</td>\n",
       "      <td>NaN</td>\n",
       "    </tr>\n",
       "    <tr>\n",
       "      <th>409</th>\n",
       "      <td>Aix-Marseille University</td>\n",
       "      <td>411-420</td>\n",
       "      <td>NaN</td>\n",
       "    </tr>\n",
       "  </tbody>\n",
       "</table>\n",
       "</div>"
      ],
      "text/plain": [
       "                                            university rank_display  score\n",
       "375                         Université Paris Descartes          377    NaN\n",
       "400              Bandung Institute of Technology (ITB)      401-410    NaN\n",
       "401                                Brandeis University      401-410    NaN\n",
       "402                   Illinois Institute of Technology      401-410    NaN\n",
       "403               Johannes Gutenberg Universität Mainz      401-410    NaN\n",
       "405  National Research Nuclear University MEPhI (Mo...      401-410    NaN\n",
       "406                    Taipei Medical University (TMU)      401-410    NaN\n",
       "407                 Universidad Externado de Colombia       401-410    NaN\n",
       "408                             Wake Forest University      401-410    NaN\n",
       "409                           Aix-Marseille University      411-420    NaN"
      ]
     },
     "execution_count": 89,
     "metadata": {},
     "output_type": "execute_result"
    }
   ],
   "source": [
    "#print the first ten rows where the score column is null\n",
    "null_score_rows = univ[univ['score'].isnull()]\n",
    "\n",
    "# Step 3: Select specific columns to print\n",
    "# Replace 'column1', 'column2', ... with the actual column names you want to print\n",
    "selected_columns = null_score_rows[['university', 'rank_display', 'score']]\n",
    "\n",
    "# Step 4: Print the first ten rows of the selected columns\n",
    "selected_columns.head(10)"
   ]
  },
  {
   "cell_type": "markdown",
   "id": "6e51ddc1",
   "metadata": {},
   "source": [
    "As we can see from the above output, most of the null values in score has a rank below 400"
   ]
  },
  {
   "cell_type": "code",
   "execution_count": 90,
   "id": "5faf6329",
   "metadata": {},
   "outputs": [],
   "source": [
    "univ_ref = univ.dropna(subset=['score']) #dropping the data points where score is null"
   ]
  },
  {
   "cell_type": "code",
   "execution_count": 91,
   "id": "e4e054ec",
   "metadata": {},
   "outputs": [
    {
     "data": {
      "text/plain": [
       "0"
      ]
     },
     "execution_count": 91,
     "metadata": {},
     "output_type": "execute_result"
    }
   ],
   "source": [
    "univ_ref['score'].isnull().sum() #sanity check"
   ]
  },
  {
   "cell_type": "code",
   "execution_count": 92,
   "id": "8634e69a",
   "metadata": {},
   "outputs": [
    {
     "data": {
      "text/plain": [
       "(2820, 15)"
      ]
     },
     "execution_count": 92,
     "metadata": {},
     "output_type": "execute_result"
    }
   ],
   "source": [
    "univ_ref.shape"
   ]
  },
  {
   "cell_type": "code",
   "execution_count": 93,
   "id": "1b137f46",
   "metadata": {},
   "outputs": [
    {
     "data": {
      "text/plain": [
       "(research_output\n",
       " Very High    2570\n",
       " High          201\n",
       " Medium         26\n",
       " Very high      20\n",
       " Low             3\n",
       " Name: count, dtype: int64,\n",
       " size\n",
       " L     1361\n",
       " XL     786\n",
       " M      520\n",
       " S      153\n",
       " Name: count, dtype: int64)"
      ]
     },
     "execution_count": 93,
     "metadata": {},
     "output_type": "execute_result"
    }
   ],
   "source": [
    "univ_ref['research_output'].value_counts() , univ_ref['size'].value_counts() #there are two variants of 'Very high'"
   ]
  },
  {
   "cell_type": "code",
   "execution_count": 94,
   "id": "fa4a853c",
   "metadata": {},
   "outputs": [
    {
     "name": "stderr",
     "output_type": "stream",
     "text": [
      "C:\\Users\\zarar\\AppData\\Local\\Temp\\ipykernel_6644\\1580367200.py:1: SettingWithCopyWarning: \n",
      "A value is trying to be set on a copy of a slice from a DataFrame.\n",
      "Try using .loc[row_indexer,col_indexer] = value instead\n",
      "\n",
      "See the caveats in the documentation: https://pandas.pydata.org/pandas-docs/stable/user_guide/indexing.html#returning-a-view-versus-a-copy\n",
      "  univ_ref['research_level'] = np.where(univ_ref['research_output'] == 'Very high', 'Very High',univ_ref['research_output']) #Merging the two variants\n"
     ]
    }
   ],
   "source": [
    "univ_ref['research_level'] = np.where(univ_ref['research_output'] == 'Very high', 'Very High',univ_ref['research_output']) #Merging the two variants"
   ]
  },
  {
   "cell_type": "code",
   "execution_count": 95,
   "id": "692411e5",
   "metadata": {},
   "outputs": [
    {
     "data": {
      "text/plain": [
       "(research_level\n",
       " Very High    2590\n",
       " High          201\n",
       " Medium         26\n",
       " Low             3\n",
       " Name: count, dtype: int64,\n",
       " size\n",
       " L     1361\n",
       " XL     786\n",
       " M      520\n",
       " S      153\n",
       " Name: count, dtype: int64)"
      ]
     },
     "execution_count": 95,
     "metadata": {},
     "output_type": "execute_result"
    }
   ],
   "source": [
    "univ_ref['research_level'].value_counts() , univ_ref['size'].value_counts() #sanity check"
   ]
  },
  {
   "cell_type": "code",
   "execution_count": 96,
   "id": "fab8a46e",
   "metadata": {},
   "outputs": [
    {
     "data": {
      "text/plain": [
       "28"
      ]
     },
     "execution_count": 96,
     "metadata": {},
     "output_type": "execute_result"
    }
   ],
   "source": [
    "univ_ref['faculty_count'].isnull().sum() #total rows where faculty count is null"
   ]
  },
  {
   "cell_type": "code",
   "execution_count": 97,
   "id": "25963a58",
   "metadata": {},
   "outputs": [
    {
     "name": "stderr",
     "output_type": "stream",
     "text": [
      "C:\\Users\\zarar\\AppData\\Local\\Temp\\ipykernel_6644\\3208828472.py:1: SettingWithCopyWarning: \n",
      "A value is trying to be set on a copy of a slice from a DataFrame.\n",
      "Try using .loc[row_indexer,col_indexer] = value instead\n",
      "\n",
      "See the caveats in the documentation: https://pandas.pydata.org/pandas-docs/stable/user_guide/indexing.html#returning-a-view-versus-a-copy\n",
      "  univ_ref['faculty_count'] = univ_ref['faculty_count'].str.replace(',', '') #removing ',' before converting the column type to float\n"
     ]
    }
   ],
   "source": [
    "univ_ref['faculty_count'] = univ_ref['faculty_count'].str.replace(',', '') #removing ',' before converting the column type to float"
   ]
  },
  {
   "cell_type": "code",
   "execution_count": 98,
   "id": "c23e56a4",
   "metadata": {},
   "outputs": [
    {
     "name": "stderr",
     "output_type": "stream",
     "text": [
      "C:\\Users\\zarar\\AppData\\Local\\Temp\\ipykernel_6644\\1218057993.py:1: SettingWithCopyWarning: \n",
      "A value is trying to be set on a copy of a slice from a DataFrame.\n",
      "Try using .loc[row_indexer,col_indexer] = value instead\n",
      "\n",
      "See the caveats in the documentation: https://pandas.pydata.org/pandas-docs/stable/user_guide/indexing.html#returning-a-view-versus-a-copy\n",
      "  univ_ref['faculty_count'] = univ_ref['faculty_count'].astype(float)\n"
     ]
    }
   ],
   "source": [
    "univ_ref['faculty_count'] = univ_ref['faculty_count'].astype(float)"
   ]
  },
  {
   "cell_type": "code",
   "execution_count": 99,
   "id": "dfed1fe4",
   "metadata": {},
   "outputs": [
    {
     "name": "stderr",
     "output_type": "stream",
     "text": [
      "C:\\Users\\zarar\\AppData\\Local\\Temp\\ipykernel_6644\\724056063.py:1: SettingWithCopyWarning: \n",
      "A value is trying to be set on a copy of a slice from a DataFrame.\n",
      "Try using .loc[row_indexer,col_indexer] = value instead\n",
      "\n",
      "See the caveats in the documentation: https://pandas.pydata.org/pandas-docs/stable/user_guide/indexing.html#returning-a-view-versus-a-copy\n",
      "  univ_ref['international_students'] = univ_ref['international_students'].str.replace(',', '') #removing ',' before converting the column type to float\n"
     ]
    }
   ],
   "source": [
    "univ_ref['international_students'] = univ_ref['international_students'].str.replace(',', '') #removing ',' before converting the column type to float"
   ]
  },
  {
   "cell_type": "code",
   "execution_count": 100,
   "id": "a17150f8",
   "metadata": {},
   "outputs": [
    {
     "name": "stderr",
     "output_type": "stream",
     "text": [
      "C:\\Users\\zarar\\AppData\\Local\\Temp\\ipykernel_6644\\2693779075.py:1: SettingWithCopyWarning: \n",
      "A value is trying to be set on a copy of a slice from a DataFrame.\n",
      "Try using .loc[row_indexer,col_indexer] = value instead\n",
      "\n",
      "See the caveats in the documentation: https://pandas.pydata.org/pandas-docs/stable/user_guide/indexing.html#returning-a-view-versus-a-copy\n",
      "  univ_ref['international_students'] = univ_ref['international_students'].astype(float)\n"
     ]
    }
   ],
   "source": [
    "univ_ref['international_students'] = univ_ref['international_students'].astype(float)"
   ]
  },
  {
   "cell_type": "code",
   "execution_count": 101,
   "id": "51f2266a",
   "metadata": {
    "scrolled": true
   },
   "outputs": [
    {
     "name": "stdout",
     "output_type": "stream",
     "text": [
      "<class 'pandas.core.frame.DataFrame'>\n",
      "Index: 2820 entries, 0 to 5682\n",
      "Data columns (total 16 columns):\n",
      " #   Column                  Non-Null Count  Dtype  \n",
      "---  ------                  --------------  -----  \n",
      " 0   university              2820 non-null   object \n",
      " 1   year                    2820 non-null   int64  \n",
      " 2   rank_display            2808 non-null   object \n",
      " 3   score                   2820 non-null   float64\n",
      " 4   link                    2820 non-null   object \n",
      " 5   country                 2820 non-null   object \n",
      " 6   city                    2757 non-null   object \n",
      " 7   region                  2820 non-null   object \n",
      " 8   logo                    2820 non-null   object \n",
      " 9   type                    2820 non-null   object \n",
      " 10  research_output         2820 non-null   object \n",
      " 11  student_faculty_ratio   2795 non-null   float64\n",
      " 12  international_students  2792 non-null   float64\n",
      " 13  size                    2820 non-null   object \n",
      " 14  faculty_count           2792 non-null   float64\n",
      " 15  research_level          2820 non-null   object \n",
      "dtypes: float64(4), int64(1), object(11)\n",
      "memory usage: 374.5+ KB\n"
     ]
    }
   ],
   "source": [
    "univ_ref.info()"
   ]
  },
  {
   "cell_type": "code",
   "execution_count": 102,
   "id": "7f398990",
   "metadata": {},
   "outputs": [
    {
     "name": "stderr",
     "output_type": "stream",
     "text": [
      "C:\\Users\\zarar\\AppData\\Local\\Temp\\ipykernel_6644\\765175933.py:1: SettingWithCopyWarning: \n",
      "A value is trying to be set on a copy of a slice from a DataFrame.\n",
      "Try using .loc[row_indexer,col_indexer] = value instead\n",
      "\n",
      "See the caveats in the documentation: https://pandas.pydata.org/pandas-docs/stable/user_guide/indexing.html#returning-a-view-versus-a-copy\n",
      "  univ_ref['score_bin'] = pd.qcut(univ_ref['score'], q = 10) #binning the score column into 10 bins\n"
     ]
    }
   ],
   "source": [
    "univ_ref['score_bin'] = pd.qcut(univ_ref['score'], q = 10) #binning the score column into 10 bins"
   ]
  },
  {
   "cell_type": "code",
   "execution_count": 103,
   "id": "b511c36d",
   "metadata": {},
   "outputs": [
    {
     "name": "stderr",
     "output_type": "stream",
     "text": [
      "C:\\Users\\zarar\\AppData\\Local\\Temp\\ipykernel_6644\\4147588862.py:1: SettingWithCopyWarning: \n",
      "A value is trying to be set on a copy of a slice from a DataFrame.\n",
      "Try using .loc[row_indexer,col_indexer] = value instead\n",
      "\n",
      "See the caveats in the documentation: https://pandas.pydata.org/pandas-docs/stable/user_guide/indexing.html#returning-a-view-versus-a-copy\n",
      "  univ_ref['num_country'] = pd.Categorical(univ_ref['country']).codes\n"
     ]
    }
   ],
   "source": [
    "univ_ref['num_country'] = pd.Categorical(univ_ref['country']).codes"
   ]
  },
  {
   "cell_type": "code",
   "execution_count": 104,
   "id": "5b3d7aa9",
   "metadata": {},
   "outputs": [
    {
     "name": "stderr",
     "output_type": "stream",
     "text": [
      "C:\\Users\\zarar\\AppData\\Local\\Temp\\ipykernel_6644\\159139825.py:2: FutureWarning: Downcasting behavior in `replace` is deprecated and will be removed in a future version. To retain the old behavior, explicitly call `result.infer_objects(copy=False)`. To opt-in to the future behavior, set `pd.set_option('future.no_silent_downcasting', True)`\n",
      "  univ_ref[\"ord_size\"] = univ_ref[\"size\"].replace(scale_mapper)\n",
      "C:\\Users\\zarar\\AppData\\Local\\Temp\\ipykernel_6644\\159139825.py:2: SettingWithCopyWarning: \n",
      "A value is trying to be set on a copy of a slice from a DataFrame.\n",
      "Try using .loc[row_indexer,col_indexer] = value instead\n",
      "\n",
      "See the caveats in the documentation: https://pandas.pydata.org/pandas-docs/stable/user_guide/indexing.html#returning-a-view-versus-a-copy\n",
      "  univ_ref[\"ord_size\"] = univ_ref[\"size\"].replace(scale_mapper)\n"
     ]
    }
   ],
   "source": [
    "scale_mapper = {\"S\":1, \"M\":2, \"L\":3, \"XL\":4} #Ordinal Encoding\n",
    "univ_ref[\"ord_size\"] = univ_ref[\"size\"].replace(scale_mapper)"
   ]
  },
  {
   "cell_type": "code",
   "execution_count": 105,
   "id": "e86f9e5d",
   "metadata": {},
   "outputs": [
    {
     "name": "stderr",
     "output_type": "stream",
     "text": [
      "C:\\Users\\zarar\\AppData\\Local\\Temp\\ipykernel_6644\\2877672396.py:2: FutureWarning: Downcasting behavior in `replace` is deprecated and will be removed in a future version. To retain the old behavior, explicitly call `result.infer_objects(copy=False)`. To opt-in to the future behavior, set `pd.set_option('future.no_silent_downcasting', True)`\n",
      "  univ_ref[\"research_num\"] = univ_ref[\"research_level\"].replace(research_mapper)\n",
      "C:\\Users\\zarar\\AppData\\Local\\Temp\\ipykernel_6644\\2877672396.py:2: SettingWithCopyWarning: \n",
      "A value is trying to be set on a copy of a slice from a DataFrame.\n",
      "Try using .loc[row_indexer,col_indexer] = value instead\n",
      "\n",
      "See the caveats in the documentation: https://pandas.pydata.org/pandas-docs/stable/user_guide/indexing.html#returning-a-view-versus-a-copy\n",
      "  univ_ref[\"research_num\"] = univ_ref[\"research_level\"].replace(research_mapper)\n"
     ]
    }
   ],
   "source": [
    "research_mapper = {\"Low\":1, \"Medium\":2, \"High\":3, \"Very High\":4}\n",
    "univ_ref[\"research_num\"] = univ_ref[\"research_level\"].replace(research_mapper)"
   ]
  },
  {
   "cell_type": "code",
   "execution_count": 106,
   "id": "471a02c5",
   "metadata": {},
   "outputs": [
    {
     "data": {
      "text/plain": [
       "(research_num\n",
       " 4    2590\n",
       " 3     201\n",
       " 2      26\n",
       " 1       3\n",
       " Name: count, dtype: int64,\n",
       " ord_size\n",
       " 3    1361\n",
       " 4     786\n",
       " 2     520\n",
       " 1     153\n",
       " Name: count, dtype: int64)"
      ]
     },
     "execution_count": 106,
     "metadata": {},
     "output_type": "execute_result"
    }
   ],
   "source": [
    "univ_ref['research_num'].value_counts() , univ_ref['ord_size'].value_counts() #Sanity check"
   ]
  },
  {
   "cell_type": "code",
   "execution_count": 107,
   "id": "1e43ef19",
   "metadata": {},
   "outputs": [
    {
     "data": {
      "text/plain": [
       "university                 0\n",
       "year                       0\n",
       "rank_display              12\n",
       "score                      0\n",
       "link                       0\n",
       "country                    0\n",
       "city                      63\n",
       "region                     0\n",
       "logo                       0\n",
       "type                       0\n",
       "research_output            0\n",
       "student_faculty_ratio     25\n",
       "international_students    28\n",
       "size                       0\n",
       "faculty_count             28\n",
       "research_level             0\n",
       "score_bin                  0\n",
       "num_country                0\n",
       "ord_size                   0\n",
       "research_num               0\n",
       "dtype: int64"
      ]
     },
     "execution_count": 107,
     "metadata": {},
     "output_type": "execute_result"
    }
   ],
   "source": [
    "univ_ref.isnull().sum()"
   ]
  },
  {
   "cell_type": "code",
   "execution_count": 108,
   "id": "4fbcf53f",
   "metadata": {},
   "outputs": [
    {
     "name": "stderr",
     "output_type": "stream",
     "text": [
      "C:\\Users\\zarar\\AppData\\Local\\Temp\\ipykernel_6644\\2703460133.py:2: FutureWarning: A value is trying to be set on a copy of a DataFrame or Series through chained assignment using an inplace method.\n",
      "The behavior will change in pandas 3.0. This inplace method will never work because the intermediate object on which we are setting values always behaves as a copy.\n",
      "\n",
      "For example, when doing 'df[col].method(value, inplace=True)', try using 'df.method({col: value}, inplace=True)' or df[col] = df[col].method(value) instead, to perform the operation inplace on the original object.\n",
      "\n",
      "\n",
      "  univ_ref['student_faculty_ratio'].fillna(value=mean_student_faculty_ratio, inplace = True)#Replacing the null values with the column's mean\n",
      "C:\\Users\\zarar\\AppData\\Local\\Temp\\ipykernel_6644\\2703460133.py:2: SettingWithCopyWarning: \n",
      "A value is trying to be set on a copy of a slice from a DataFrame\n",
      "\n",
      "See the caveats in the documentation: https://pandas.pydata.org/pandas-docs/stable/user_guide/indexing.html#returning-a-view-versus-a-copy\n",
      "  univ_ref['student_faculty_ratio'].fillna(value=mean_student_faculty_ratio, inplace = True)#Replacing the null values with the column's mean\n"
     ]
    }
   ],
   "source": [
    "mean_student_faculty_ratio = univ_ref['student_faculty_ratio'].mean()\n",
    "univ_ref['student_faculty_ratio'].fillna(value=mean_student_faculty_ratio, inplace = True)#Replacing the null values with the column's mean"
   ]
  },
  {
   "cell_type": "code",
   "execution_count": 109,
   "id": "76883080",
   "metadata": {},
   "outputs": [
    {
     "name": "stderr",
     "output_type": "stream",
     "text": [
      "C:\\Users\\zarar\\AppData\\Local\\Temp\\ipykernel_6644\\1483519525.py:2: FutureWarning: A value is trying to be set on a copy of a DataFrame or Series through chained assignment using an inplace method.\n",
      "The behavior will change in pandas 3.0. This inplace method will never work because the intermediate object on which we are setting values always behaves as a copy.\n",
      "\n",
      "For example, when doing 'df[col].method(value, inplace=True)', try using 'df.method({col: value}, inplace=True)' or df[col] = df[col].method(value) instead, to perform the operation inplace on the original object.\n",
      "\n",
      "\n",
      "  univ_ref['faculty_count'].fillna(value=mean_faculty_count, inplace = True)\n",
      "C:\\Users\\zarar\\AppData\\Local\\Temp\\ipykernel_6644\\1483519525.py:2: SettingWithCopyWarning: \n",
      "A value is trying to be set on a copy of a slice from a DataFrame\n",
      "\n",
      "See the caveats in the documentation: https://pandas.pydata.org/pandas-docs/stable/user_guide/indexing.html#returning-a-view-versus-a-copy\n",
      "  univ_ref['faculty_count'].fillna(value=mean_faculty_count, inplace = True)\n"
     ]
    }
   ],
   "source": [
    "mean_faculty_count = univ_ref['faculty_count'].mean()\n",
    "univ_ref['faculty_count'].fillna(value=mean_faculty_count, inplace = True)"
   ]
  },
  {
   "cell_type": "code",
   "execution_count": 110,
   "id": "abcd2894",
   "metadata": {},
   "outputs": [
    {
     "name": "stderr",
     "output_type": "stream",
     "text": [
      "C:\\Users\\zarar\\AppData\\Local\\Temp\\ipykernel_6644\\2217213627.py:2: FutureWarning: A value is trying to be set on a copy of a DataFrame or Series through chained assignment using an inplace method.\n",
      "The behavior will change in pandas 3.0. This inplace method will never work because the intermediate object on which we are setting values always behaves as a copy.\n",
      "\n",
      "For example, when doing 'df[col].method(value, inplace=True)', try using 'df.method({col: value}, inplace=True)' or df[col] = df[col].method(value) instead, to perform the operation inplace on the original object.\n",
      "\n",
      "\n",
      "  univ_ref['international_students'].fillna(value=mean_international_student, inplace = True)#Replacing the null values with the column's mean\n",
      "C:\\Users\\zarar\\AppData\\Local\\Temp\\ipykernel_6644\\2217213627.py:2: SettingWithCopyWarning: \n",
      "A value is trying to be set on a copy of a slice from a DataFrame\n",
      "\n",
      "See the caveats in the documentation: https://pandas.pydata.org/pandas-docs/stable/user_guide/indexing.html#returning-a-view-versus-a-copy\n",
      "  univ_ref['international_students'].fillna(value=mean_international_student, inplace = True)#Replacing the null values with the column's mean\n"
     ]
    }
   ],
   "source": [
    "mean_international_student = univ_ref['international_students'].mean()\n",
    "univ_ref['international_students'].fillna(value=mean_international_student, inplace = True)#Replacing the null values with the column's mean"
   ]
  },
  {
   "cell_type": "code",
   "execution_count": 111,
   "id": "8493f878",
   "metadata": {},
   "outputs": [
    {
     "data": {
      "text/plain": [
       "university                 0\n",
       "year                       0\n",
       "rank_display              12\n",
       "score                      0\n",
       "link                       0\n",
       "country                    0\n",
       "city                      63\n",
       "region                     0\n",
       "logo                       0\n",
       "type                       0\n",
       "research_output            0\n",
       "student_faculty_ratio      0\n",
       "international_students     0\n",
       "size                       0\n",
       "faculty_count              0\n",
       "research_level             0\n",
       "score_bin                  0\n",
       "num_country                0\n",
       "ord_size                   0\n",
       "research_num               0\n",
       "dtype: int64"
      ]
     },
     "execution_count": 111,
     "metadata": {},
     "output_type": "execute_result"
    }
   ],
   "source": [
    "univ_ref.isnull().sum()"
   ]
  },
  {
   "cell_type": "code",
   "execution_count": 112,
   "id": "b77a4fd2",
   "metadata": {},
   "outputs": [
    {
     "data": {
      "text/plain": [
       "array([[6.0000e+01, 4.0000e+00, 4.0000e+00, 3.7300e+03, 2.0000e+00,\n",
       "        3.0650e+03],\n",
       "       [6.0000e+01, 4.0000e+00, 3.0000e+00, 3.8790e+03, 3.0000e+00,\n",
       "        4.7250e+03],\n",
       "       [6.0000e+01, 4.0000e+00, 5.0000e+00, 5.8770e+03, 3.0000e+00,\n",
       "        4.6460e+03],\n",
       "       ...,\n",
       "       [5.0000e+01, 4.0000e+00, 9.0000e+00, 1.4290e+00, 2.0000e+00,\n",
       "        1.0170e+00],\n",
       "       [2.8000e+01, 4.0000e+00, 1.7000e+01, 3.5050e+00, 3.0000e+00,\n",
       "        1.4460e+00],\n",
       "       [7.0000e+00, 4.0000e+00, 2.9000e+01, 1.2285e+01, 4.0000e+00,\n",
       "        1.5080e+00]])"
      ]
     },
     "execution_count": 112,
     "metadata": {},
     "output_type": "execute_result"
    }
   ],
   "source": [
    "X_cols = ['num_country', 'research_num', 'student_faculty_ratio', 'international_students', 'ord_size', 'faculty_count']\n",
    "X = univ_ref[X_cols].to_numpy()\n",
    "X"
   ]
  },
  {
   "cell_type": "code",
   "execution_count": 113,
   "id": "e0c8fe0d",
   "metadata": {},
   "outputs": [
    {
     "data": {
      "text/plain": [
       "array([100. ,  98.7,  98.3, ...,  24.1,  24.1,  24.1])"
      ]
     },
     "execution_count": 113,
     "metadata": {},
     "output_type": "execute_result"
    }
   ],
   "source": [
    "y = univ_ref['score'].to_numpy()\n",
    "y"
   ]
  },
  {
   "cell_type": "code",
   "execution_count": 114,
   "id": "d5db1834",
   "metadata": {},
   "outputs": [],
   "source": [
    "X_train, X_test, y_train, y_test = train_test_split(X, y, test_size = 0.20)"
   ]
  },
  {
   "cell_type": "code",
   "execution_count": 115,
   "id": "980892cc",
   "metadata": {},
   "outputs": [
    {
     "data": {
      "text/plain": [
       "((2256, 6), (2256,), (564, 6), (564,))"
      ]
     },
     "execution_count": 115,
     "metadata": {},
     "output_type": "execute_result"
    }
   ],
   "source": [
    "X_train.shape , y_train.shape , X_test.shape , y_test.shape"
   ]
  },
  {
   "cell_type": "code",
   "execution_count": 116,
   "id": "1888e4dc",
   "metadata": {},
   "outputs": [
    {
     "data": {
      "text/plain": [
       "array([[1.0000e+00, 4.0000e+00, 1.5000e+01, 3.1049e+04, 4.0000e+00,\n",
       "        3.8520e+03],\n",
       "       [5.5000e+01, 4.0000e+00, 7.0000e+00, 1.4150e+03, 3.0000e+00,\n",
       "        3.8500e+03],\n",
       "       [9.0000e+00, 4.0000e+00, 5.0000e+00, 8.8000e+01, 2.0000e+00,\n",
       "        9.8100e+02],\n",
       "       ...,\n",
       "       [5.2000e+01, 4.0000e+00, 8.0000e+00, 5.6520e+03, 3.0000e+00,\n",
       "        2.6800e+03],\n",
       "       [1.8000e+01, 4.0000e+00, 5.0000e+00, 7.6490e+03, 4.0000e+00,\n",
       "        8.0100e+03],\n",
       "       [1.9000e+01, 4.0000e+00, 8.0000e+00, 3.8750e+03, 4.0000e+00,\n",
       "        3.7170e+03]])"
      ]
     },
     "execution_count": 116,
     "metadata": {},
     "output_type": "execute_result"
    }
   ],
   "source": [
    "X_train"
   ]
  },
  {
   "cell_type": "code",
   "execution_count": 117,
   "id": "5ed1278b",
   "metadata": {},
   "outputs": [],
   "source": [
    "regressor = RandomForestRegressor(n_estimators=40, random_state=0)"
   ]
  },
  {
   "cell_type": "code",
   "execution_count": 118,
   "id": "df0959ed",
   "metadata": {},
   "outputs": [
    {
     "data": {
      "text/html": [
       "<style>#sk-container-id-2 {\n",
       "  /* Definition of color scheme common for light and dark mode */\n",
       "  --sklearn-color-text: black;\n",
       "  --sklearn-color-line: gray;\n",
       "  /* Definition of color scheme for unfitted estimators */\n",
       "  --sklearn-color-unfitted-level-0: #fff5e6;\n",
       "  --sklearn-color-unfitted-level-1: #f6e4d2;\n",
       "  --sklearn-color-unfitted-level-2: #ffe0b3;\n",
       "  --sklearn-color-unfitted-level-3: chocolate;\n",
       "  /* Definition of color scheme for fitted estimators */\n",
       "  --sklearn-color-fitted-level-0: #f0f8ff;\n",
       "  --sklearn-color-fitted-level-1: #d4ebff;\n",
       "  --sklearn-color-fitted-level-2: #b3dbfd;\n",
       "  --sklearn-color-fitted-level-3: cornflowerblue;\n",
       "\n",
       "  /* Specific color for light theme */\n",
       "  --sklearn-color-text-on-default-background: var(--sg-text-color, var(--theme-code-foreground, var(--jp-content-font-color1, black)));\n",
       "  --sklearn-color-background: var(--sg-background-color, var(--theme-background, var(--jp-layout-color0, white)));\n",
       "  --sklearn-color-border-box: var(--sg-text-color, var(--theme-code-foreground, var(--jp-content-font-color1, black)));\n",
       "  --sklearn-color-icon: #696969;\n",
       "\n",
       "  @media (prefers-color-scheme: dark) {\n",
       "    /* Redefinition of color scheme for dark theme */\n",
       "    --sklearn-color-text-on-default-background: var(--sg-text-color, var(--theme-code-foreground, var(--jp-content-font-color1, white)));\n",
       "    --sklearn-color-background: var(--sg-background-color, var(--theme-background, var(--jp-layout-color0, #111)));\n",
       "    --sklearn-color-border-box: var(--sg-text-color, var(--theme-code-foreground, var(--jp-content-font-color1, white)));\n",
       "    --sklearn-color-icon: #878787;\n",
       "  }\n",
       "}\n",
       "\n",
       "#sk-container-id-2 {\n",
       "  color: var(--sklearn-color-text);\n",
       "}\n",
       "\n",
       "#sk-container-id-2 pre {\n",
       "  padding: 0;\n",
       "}\n",
       "\n",
       "#sk-container-id-2 input.sk-hidden--visually {\n",
       "  border: 0;\n",
       "  clip: rect(1px 1px 1px 1px);\n",
       "  clip: rect(1px, 1px, 1px, 1px);\n",
       "  height: 1px;\n",
       "  margin: -1px;\n",
       "  overflow: hidden;\n",
       "  padding: 0;\n",
       "  position: absolute;\n",
       "  width: 1px;\n",
       "}\n",
       "\n",
       "#sk-container-id-2 div.sk-dashed-wrapped {\n",
       "  border: 1px dashed var(--sklearn-color-line);\n",
       "  margin: 0 0.4em 0.5em 0.4em;\n",
       "  box-sizing: border-box;\n",
       "  padding-bottom: 0.4em;\n",
       "  background-color: var(--sklearn-color-background);\n",
       "}\n",
       "\n",
       "#sk-container-id-2 div.sk-container {\n",
       "  /* jupyter's `normalize.less` sets `[hidden] { display: none; }`\n",
       "     but bootstrap.min.css set `[hidden] { display: none !important; }`\n",
       "     so we also need the `!important` here to be able to override the\n",
       "     default hidden behavior on the sphinx rendered scikit-learn.org.\n",
       "     See: https://github.com/scikit-learn/scikit-learn/issues/21755 */\n",
       "  display: inline-block !important;\n",
       "  position: relative;\n",
       "}\n",
       "\n",
       "#sk-container-id-2 div.sk-text-repr-fallback {\n",
       "  display: none;\n",
       "}\n",
       "\n",
       "div.sk-parallel-item,\n",
       "div.sk-serial,\n",
       "div.sk-item {\n",
       "  /* draw centered vertical line to link estimators */\n",
       "  background-image: linear-gradient(var(--sklearn-color-text-on-default-background), var(--sklearn-color-text-on-default-background));\n",
       "  background-size: 2px 100%;\n",
       "  background-repeat: no-repeat;\n",
       "  background-position: center center;\n",
       "}\n",
       "\n",
       "/* Parallel-specific style estimator block */\n",
       "\n",
       "#sk-container-id-2 div.sk-parallel-item::after {\n",
       "  content: \"\";\n",
       "  width: 100%;\n",
       "  border-bottom: 2px solid var(--sklearn-color-text-on-default-background);\n",
       "  flex-grow: 1;\n",
       "}\n",
       "\n",
       "#sk-container-id-2 div.sk-parallel {\n",
       "  display: flex;\n",
       "  align-items: stretch;\n",
       "  justify-content: center;\n",
       "  background-color: var(--sklearn-color-background);\n",
       "  position: relative;\n",
       "}\n",
       "\n",
       "#sk-container-id-2 div.sk-parallel-item {\n",
       "  display: flex;\n",
       "  flex-direction: column;\n",
       "}\n",
       "\n",
       "#sk-container-id-2 div.sk-parallel-item:first-child::after {\n",
       "  align-self: flex-end;\n",
       "  width: 50%;\n",
       "}\n",
       "\n",
       "#sk-container-id-2 div.sk-parallel-item:last-child::after {\n",
       "  align-self: flex-start;\n",
       "  width: 50%;\n",
       "}\n",
       "\n",
       "#sk-container-id-2 div.sk-parallel-item:only-child::after {\n",
       "  width: 0;\n",
       "}\n",
       "\n",
       "/* Serial-specific style estimator block */\n",
       "\n",
       "#sk-container-id-2 div.sk-serial {\n",
       "  display: flex;\n",
       "  flex-direction: column;\n",
       "  align-items: center;\n",
       "  background-color: var(--sklearn-color-background);\n",
       "  padding-right: 1em;\n",
       "  padding-left: 1em;\n",
       "}\n",
       "\n",
       "\n",
       "/* Toggleable style: style used for estimator/Pipeline/ColumnTransformer box that is\n",
       "clickable and can be expanded/collapsed.\n",
       "- Pipeline and ColumnTransformer use this feature and define the default style\n",
       "- Estimators will overwrite some part of the style using the `sk-estimator` class\n",
       "*/\n",
       "\n",
       "/* Pipeline and ColumnTransformer style (default) */\n",
       "\n",
       "#sk-container-id-2 div.sk-toggleable {\n",
       "  /* Default theme specific background. It is overwritten whether we have a\n",
       "  specific estimator or a Pipeline/ColumnTransformer */\n",
       "  background-color: var(--sklearn-color-background);\n",
       "}\n",
       "\n",
       "/* Toggleable label */\n",
       "#sk-container-id-2 label.sk-toggleable__label {\n",
       "  cursor: pointer;\n",
       "  display: block;\n",
       "  width: 100%;\n",
       "  margin-bottom: 0;\n",
       "  padding: 0.5em;\n",
       "  box-sizing: border-box;\n",
       "  text-align: center;\n",
       "}\n",
       "\n",
       "#sk-container-id-2 label.sk-toggleable__label-arrow:before {\n",
       "  /* Arrow on the left of the label */\n",
       "  content: \"▸\";\n",
       "  float: left;\n",
       "  margin-right: 0.25em;\n",
       "  color: var(--sklearn-color-icon);\n",
       "}\n",
       "\n",
       "#sk-container-id-2 label.sk-toggleable__label-arrow:hover:before {\n",
       "  color: var(--sklearn-color-text);\n",
       "}\n",
       "\n",
       "/* Toggleable content - dropdown */\n",
       "\n",
       "#sk-container-id-2 div.sk-toggleable__content {\n",
       "  max-height: 0;\n",
       "  max-width: 0;\n",
       "  overflow: hidden;\n",
       "  text-align: left;\n",
       "  /* unfitted */\n",
       "  background-color: var(--sklearn-color-unfitted-level-0);\n",
       "}\n",
       "\n",
       "#sk-container-id-2 div.sk-toggleable__content.fitted {\n",
       "  /* fitted */\n",
       "  background-color: var(--sklearn-color-fitted-level-0);\n",
       "}\n",
       "\n",
       "#sk-container-id-2 div.sk-toggleable__content pre {\n",
       "  margin: 0.2em;\n",
       "  border-radius: 0.25em;\n",
       "  color: var(--sklearn-color-text);\n",
       "  /* unfitted */\n",
       "  background-color: var(--sklearn-color-unfitted-level-0);\n",
       "}\n",
       "\n",
       "#sk-container-id-2 div.sk-toggleable__content.fitted pre {\n",
       "  /* unfitted */\n",
       "  background-color: var(--sklearn-color-fitted-level-0);\n",
       "}\n",
       "\n",
       "#sk-container-id-2 input.sk-toggleable__control:checked~div.sk-toggleable__content {\n",
       "  /* Expand drop-down */\n",
       "  max-height: 200px;\n",
       "  max-width: 100%;\n",
       "  overflow: auto;\n",
       "}\n",
       "\n",
       "#sk-container-id-2 input.sk-toggleable__control:checked~label.sk-toggleable__label-arrow:before {\n",
       "  content: \"▾\";\n",
       "}\n",
       "\n",
       "/* Pipeline/ColumnTransformer-specific style */\n",
       "\n",
       "#sk-container-id-2 div.sk-label input.sk-toggleable__control:checked~label.sk-toggleable__label {\n",
       "  color: var(--sklearn-color-text);\n",
       "  background-color: var(--sklearn-color-unfitted-level-2);\n",
       "}\n",
       "\n",
       "#sk-container-id-2 div.sk-label.fitted input.sk-toggleable__control:checked~label.sk-toggleable__label {\n",
       "  background-color: var(--sklearn-color-fitted-level-2);\n",
       "}\n",
       "\n",
       "/* Estimator-specific style */\n",
       "\n",
       "/* Colorize estimator box */\n",
       "#sk-container-id-2 div.sk-estimator input.sk-toggleable__control:checked~label.sk-toggleable__label {\n",
       "  /* unfitted */\n",
       "  background-color: var(--sklearn-color-unfitted-level-2);\n",
       "}\n",
       "\n",
       "#sk-container-id-2 div.sk-estimator.fitted input.sk-toggleable__control:checked~label.sk-toggleable__label {\n",
       "  /* fitted */\n",
       "  background-color: var(--sklearn-color-fitted-level-2);\n",
       "}\n",
       "\n",
       "#sk-container-id-2 div.sk-label label.sk-toggleable__label,\n",
       "#sk-container-id-2 div.sk-label label {\n",
       "  /* The background is the default theme color */\n",
       "  color: var(--sklearn-color-text-on-default-background);\n",
       "}\n",
       "\n",
       "/* On hover, darken the color of the background */\n",
       "#sk-container-id-2 div.sk-label:hover label.sk-toggleable__label {\n",
       "  color: var(--sklearn-color-text);\n",
       "  background-color: var(--sklearn-color-unfitted-level-2);\n",
       "}\n",
       "\n",
       "/* Label box, darken color on hover, fitted */\n",
       "#sk-container-id-2 div.sk-label.fitted:hover label.sk-toggleable__label.fitted {\n",
       "  color: var(--sklearn-color-text);\n",
       "  background-color: var(--sklearn-color-fitted-level-2);\n",
       "}\n",
       "\n",
       "/* Estimator label */\n",
       "\n",
       "#sk-container-id-2 div.sk-label label {\n",
       "  font-family: monospace;\n",
       "  font-weight: bold;\n",
       "  display: inline-block;\n",
       "  line-height: 1.2em;\n",
       "}\n",
       "\n",
       "#sk-container-id-2 div.sk-label-container {\n",
       "  text-align: center;\n",
       "}\n",
       "\n",
       "/* Estimator-specific */\n",
       "#sk-container-id-2 div.sk-estimator {\n",
       "  font-family: monospace;\n",
       "  border: 1px dotted var(--sklearn-color-border-box);\n",
       "  border-radius: 0.25em;\n",
       "  box-sizing: border-box;\n",
       "  margin-bottom: 0.5em;\n",
       "  /* unfitted */\n",
       "  background-color: var(--sklearn-color-unfitted-level-0);\n",
       "}\n",
       "\n",
       "#sk-container-id-2 div.sk-estimator.fitted {\n",
       "  /* fitted */\n",
       "  background-color: var(--sklearn-color-fitted-level-0);\n",
       "}\n",
       "\n",
       "/* on hover */\n",
       "#sk-container-id-2 div.sk-estimator:hover {\n",
       "  /* unfitted */\n",
       "  background-color: var(--sklearn-color-unfitted-level-2);\n",
       "}\n",
       "\n",
       "#sk-container-id-2 div.sk-estimator.fitted:hover {\n",
       "  /* fitted */\n",
       "  background-color: var(--sklearn-color-fitted-level-2);\n",
       "}\n",
       "\n",
       "/* Specification for estimator info (e.g. \"i\" and \"?\") */\n",
       "\n",
       "/* Common style for \"i\" and \"?\" */\n",
       "\n",
       ".sk-estimator-doc-link,\n",
       "a:link.sk-estimator-doc-link,\n",
       "a:visited.sk-estimator-doc-link {\n",
       "  float: right;\n",
       "  font-size: smaller;\n",
       "  line-height: 1em;\n",
       "  font-family: monospace;\n",
       "  background-color: var(--sklearn-color-background);\n",
       "  border-radius: 1em;\n",
       "  height: 1em;\n",
       "  width: 1em;\n",
       "  text-decoration: none !important;\n",
       "  margin-left: 1ex;\n",
       "  /* unfitted */\n",
       "  border: var(--sklearn-color-unfitted-level-1) 1pt solid;\n",
       "  color: var(--sklearn-color-unfitted-level-1);\n",
       "}\n",
       "\n",
       ".sk-estimator-doc-link.fitted,\n",
       "a:link.sk-estimator-doc-link.fitted,\n",
       "a:visited.sk-estimator-doc-link.fitted {\n",
       "  /* fitted */\n",
       "  border: var(--sklearn-color-fitted-level-1) 1pt solid;\n",
       "  color: var(--sklearn-color-fitted-level-1);\n",
       "}\n",
       "\n",
       "/* On hover */\n",
       "div.sk-estimator:hover .sk-estimator-doc-link:hover,\n",
       ".sk-estimator-doc-link:hover,\n",
       "div.sk-label-container:hover .sk-estimator-doc-link:hover,\n",
       ".sk-estimator-doc-link:hover {\n",
       "  /* unfitted */\n",
       "  background-color: var(--sklearn-color-unfitted-level-3);\n",
       "  color: var(--sklearn-color-background);\n",
       "  text-decoration: none;\n",
       "}\n",
       "\n",
       "div.sk-estimator.fitted:hover .sk-estimator-doc-link.fitted:hover,\n",
       ".sk-estimator-doc-link.fitted:hover,\n",
       "div.sk-label-container:hover .sk-estimator-doc-link.fitted:hover,\n",
       ".sk-estimator-doc-link.fitted:hover {\n",
       "  /* fitted */\n",
       "  background-color: var(--sklearn-color-fitted-level-3);\n",
       "  color: var(--sklearn-color-background);\n",
       "  text-decoration: none;\n",
       "}\n",
       "\n",
       "/* Span, style for the box shown on hovering the info icon */\n",
       ".sk-estimator-doc-link span {\n",
       "  display: none;\n",
       "  z-index: 9999;\n",
       "  position: relative;\n",
       "  font-weight: normal;\n",
       "  right: .2ex;\n",
       "  padding: .5ex;\n",
       "  margin: .5ex;\n",
       "  width: min-content;\n",
       "  min-width: 20ex;\n",
       "  max-width: 50ex;\n",
       "  color: var(--sklearn-color-text);\n",
       "  box-shadow: 2pt 2pt 4pt #999;\n",
       "  /* unfitted */\n",
       "  background: var(--sklearn-color-unfitted-level-0);\n",
       "  border: .5pt solid var(--sklearn-color-unfitted-level-3);\n",
       "}\n",
       "\n",
       ".sk-estimator-doc-link.fitted span {\n",
       "  /* fitted */\n",
       "  background: var(--sklearn-color-fitted-level-0);\n",
       "  border: var(--sklearn-color-fitted-level-3);\n",
       "}\n",
       "\n",
       ".sk-estimator-doc-link:hover span {\n",
       "  display: block;\n",
       "}\n",
       "\n",
       "/* \"?\"-specific style due to the `<a>` HTML tag */\n",
       "\n",
       "#sk-container-id-2 a.estimator_doc_link {\n",
       "  float: right;\n",
       "  font-size: 1rem;\n",
       "  line-height: 1em;\n",
       "  font-family: monospace;\n",
       "  background-color: var(--sklearn-color-background);\n",
       "  border-radius: 1rem;\n",
       "  height: 1rem;\n",
       "  width: 1rem;\n",
       "  text-decoration: none;\n",
       "  /* unfitted */\n",
       "  color: var(--sklearn-color-unfitted-level-1);\n",
       "  border: var(--sklearn-color-unfitted-level-1) 1pt solid;\n",
       "}\n",
       "\n",
       "#sk-container-id-2 a.estimator_doc_link.fitted {\n",
       "  /* fitted */\n",
       "  border: var(--sklearn-color-fitted-level-1) 1pt solid;\n",
       "  color: var(--sklearn-color-fitted-level-1);\n",
       "}\n",
       "\n",
       "/* On hover */\n",
       "#sk-container-id-2 a.estimator_doc_link:hover {\n",
       "  /* unfitted */\n",
       "  background-color: var(--sklearn-color-unfitted-level-3);\n",
       "  color: var(--sklearn-color-background);\n",
       "  text-decoration: none;\n",
       "}\n",
       "\n",
       "#sk-container-id-2 a.estimator_doc_link.fitted:hover {\n",
       "  /* fitted */\n",
       "  background-color: var(--sklearn-color-fitted-level-3);\n",
       "}\n",
       "</style><div id=\"sk-container-id-2\" class=\"sk-top-container\"><div class=\"sk-text-repr-fallback\"><pre>RandomForestRegressor(n_estimators=40, random_state=0)</pre><b>In a Jupyter environment, please rerun this cell to show the HTML representation or trust the notebook. <br />On GitHub, the HTML representation is unable to render, please try loading this page with nbviewer.org.</b></div><div class=\"sk-container\" hidden><div class=\"sk-item\"><div class=\"sk-estimator fitted sk-toggleable\"><input class=\"sk-toggleable__control sk-hidden--visually\" id=\"sk-estimator-id-2\" type=\"checkbox\" checked><label for=\"sk-estimator-id-2\" class=\"sk-toggleable__label fitted sk-toggleable__label-arrow fitted\">&nbsp;&nbsp;RandomForestRegressor<a class=\"sk-estimator-doc-link fitted\" rel=\"noreferrer\" target=\"_blank\" href=\"https://scikit-learn.org/1.4/modules/generated/sklearn.ensemble.RandomForestRegressor.html\">?<span>Documentation for RandomForestRegressor</span></a><span class=\"sk-estimator-doc-link fitted\">i<span>Fitted</span></span></label><div class=\"sk-toggleable__content fitted\"><pre>RandomForestRegressor(n_estimators=40, random_state=0)</pre></div> </div></div></div></div>"
      ],
      "text/plain": [
       "RandomForestRegressor(n_estimators=40, random_state=0)"
      ]
     },
     "execution_count": 118,
     "metadata": {},
     "output_type": "execute_result"
    }
   ],
   "source": [
    "regressor.fit(X_train, y_train) #training a Random Forest Regressor to predict the score"
   ]
  },
  {
   "cell_type": "code",
   "execution_count": 119,
   "id": "3697db8b",
   "metadata": {},
   "outputs": [
    {
     "data": {
      "text/plain": [
       "0.9821226806833554"
      ]
     },
     "execution_count": 119,
     "metadata": {},
     "output_type": "execute_result"
    }
   ],
   "source": [
    "regressor.score(X_train, y_train)"
   ]
  },
  {
   "cell_type": "code",
   "execution_count": 120,
   "id": "4a9a3e15",
   "metadata": {},
   "outputs": [
    {
     "name": "stdout",
     "output_type": "stream",
     "text": [
      "Mean Squared Error: 11.926563451876783\n",
      "Accuracy: 0.9650652734652959\n"
     ]
    }
   ],
   "source": [
    "predictions = regressor.predict(X_test)\n",
    "mse = mean_squared_error(y_test, predictions)\n",
    "print(f'Mean Squared Error: {mse}')\n",
    "\n",
    "print(\"Accuracy:\", regressor.score(X_test, y_test))"
   ]
  },
  {
   "cell_type": "code",
   "execution_count": 121,
   "id": "1c710a50",
   "metadata": {},
   "outputs": [
    {
     "name": "stdout",
     "output_type": "stream",
     "text": [
      "[0.06267519 0.01391515 0.14344907 0.57062854 0.02436995 0.1849621 ]\n",
      "['num_country', 'research_num', 'student_faculty_ratio', 'international_students', 'ord_size', 'faculty_count']\n"
     ]
    }
   ],
   "source": [
    "importances = regressor.feature_importances_ #Obtaining the feature importance for each features\n",
    "\n",
    "# Print the feature importances\n",
    "print(importances)\n",
    "print(X_cols)"
   ]
  },
  {
   "cell_type": "code",
   "execution_count": 122,
   "id": "399cfe38",
   "metadata": {},
   "outputs": [],
   "source": [
    "X_axis = ['Country', 'Research Output', 'Student Faculty Ratio', 'International Students', 'University Size', 'Faculty Count']\n",
    "feature_imp = np.stack((X_axis, importances * 100), axis=1)"
   ]
  },
  {
   "cell_type": "code",
   "execution_count": 123,
   "id": "c091beb6-be8e-40cc-b583-dae07a7620ae",
   "metadata": {},
   "outputs": [
    {
     "data": {
      "text/plain": [
       "array([['Country', '6.267519468380757'],\n",
       "       ['Research Output', '1.3915145854791682'],\n",
       "       ['Student Faculty Ratio', '14.344906784735151'],\n",
       "       ['International Students', '57.0628539235033'],\n",
       "       ['University Size', '2.4369949751580924'],\n",
       "       ['Faculty Count', '18.496210262743528']], dtype='<U32')"
      ]
     },
     "execution_count": 123,
     "metadata": {},
     "output_type": "execute_result"
    }
   ],
   "source": [
    "feature_imp"
   ]
  },
  {
   "cell_type": "code",
   "execution_count": 124,
   "id": "dd38c49d",
   "metadata": {},
   "outputs": [],
   "source": [
    "feature_imp_df = pd.DataFrame(data = feature_imp, columns = ['Features', 'Importance'])\n",
    "feature_imp_df['Importance'] = feature_imp_df['Importance'].astype(float)\n",
    "feature_imp_df = feature_imp_df.sort_values(by='Importance', ascending = False)"
   ]
  },
  {
   "cell_type": "code",
   "execution_count": 125,
   "id": "a44278d5",
   "metadata": {},
   "outputs": [
    {
     "data": {
      "text/html": [
       "<div>\n",
       "<style scoped>\n",
       "    .dataframe tbody tr th:only-of-type {\n",
       "        vertical-align: middle;\n",
       "    }\n",
       "\n",
       "    .dataframe tbody tr th {\n",
       "        vertical-align: top;\n",
       "    }\n",
       "\n",
       "    .dataframe thead th {\n",
       "        text-align: right;\n",
       "    }\n",
       "</style>\n",
       "<table border=\"1\" class=\"dataframe\">\n",
       "  <thead>\n",
       "    <tr style=\"text-align: right;\">\n",
       "      <th></th>\n",
       "      <th>Features</th>\n",
       "      <th>Importance</th>\n",
       "    </tr>\n",
       "  </thead>\n",
       "  <tbody>\n",
       "    <tr>\n",
       "      <th>3</th>\n",
       "      <td>International Students</td>\n",
       "      <td>57.062854</td>\n",
       "    </tr>\n",
       "    <tr>\n",
       "      <th>5</th>\n",
       "      <td>Faculty Count</td>\n",
       "      <td>18.496210</td>\n",
       "    </tr>\n",
       "    <tr>\n",
       "      <th>2</th>\n",
       "      <td>Student Faculty Ratio</td>\n",
       "      <td>14.344907</td>\n",
       "    </tr>\n",
       "    <tr>\n",
       "      <th>0</th>\n",
       "      <td>Country</td>\n",
       "      <td>6.267519</td>\n",
       "    </tr>\n",
       "    <tr>\n",
       "      <th>4</th>\n",
       "      <td>University Size</td>\n",
       "      <td>2.436995</td>\n",
       "    </tr>\n",
       "  </tbody>\n",
       "</table>\n",
       "</div>"
      ],
      "text/plain": [
       "                 Features  Importance\n",
       "3  International Students   57.062854\n",
       "5           Faculty Count   18.496210\n",
       "2   Student Faculty Ratio   14.344907\n",
       "0                 Country    6.267519\n",
       "4         University Size    2.436995"
      ]
     },
     "execution_count": 125,
     "metadata": {},
     "output_type": "execute_result"
    }
   ],
   "source": [
    "feature_imp_df.head()"
   ]
  },
  {
   "cell_type": "code",
   "execution_count": 126,
   "id": "5cff6189",
   "metadata": {},
   "outputs": [
    {
     "name": "stdout",
     "output_type": "stream",
     "text": [
      "<class 'pandas.core.frame.DataFrame'>\n",
      "Index: 6 entries, 3 to 1\n",
      "Data columns (total 2 columns):\n",
      " #   Column      Non-Null Count  Dtype  \n",
      "---  ------      --------------  -----  \n",
      " 0   Features    6 non-null      object \n",
      " 1   Importance  6 non-null      float64\n",
      "dtypes: float64(1), object(1)\n",
      "memory usage: 144.0+ bytes\n"
     ]
    }
   ],
   "source": [
    "feature_imp_df.info()"
   ]
  },
  {
   "cell_type": "code",
   "execution_count": 127,
   "id": "61dc424d",
   "metadata": {},
   "outputs": [
    {
     "data": {
      "image/png": "[encoded data removed]",
      "text/plain": [
       "<Figure size 1600x1000 with 1 Axes>"
      ]
     },
     "metadata": {},
     "output_type": "display_data"
    }
   ],
   "source": [
    "fig, ax = plt.subplots(figsize=(16, 10))\n",
    "barplot = sns.barplot(feature_imp_df, x = \"Features\", y = \"Importance\", ax = ax)"
   ]
  },
  {
   "cell_type": "markdown",
   "id": "af922b2e-b105-44f1-a241-4acabb4f7e7b",
   "metadata": {},
   "source": [
    "As we can see, the number of international students is the strongest factor in deciding the score(rank) of a university"
   ]
  },
  {
   "cell_type": "code",
   "execution_count": 128,
   "id": "4a10c306",
   "metadata": {},
   "outputs": [],
   "source": [
    "figure = barplot.get_figure()\n",
    "figure.savefig(\"feautre_importance.png\") "
   ]
  }
 ],
 "metadata": {
  "kernelspec": {
   "display_name": "Python 3 (ipykernel)",
   "language": "python",
   "name": "python3"
  },
  "language_info": {
   "codemirror_mode": {
    "name": "ipython",
    "version": 3
   },
   "file_extension": ".py",
   "mimetype": "text/x-python",
   "name": "python",
   "nbconvert_exporter": "python",
   "pygments_lexer": "ipython3",
   "version": "3.12.3"
  }
 },
 "nbformat": 4,
 "nbformat_minor": 5
}
